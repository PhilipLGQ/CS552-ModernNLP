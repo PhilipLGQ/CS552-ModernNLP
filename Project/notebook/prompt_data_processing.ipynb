{
 "cells": [
  {
   "cell_type": "code",
   "execution_count": 1,
   "metadata": {},
   "outputs": [],
   "source": [
    "%load_ext autoreload\n",
    "%autoreload 2"
   ]
  },
  {
   "cell_type": "code",
   "execution_count": 2,
   "metadata": {},
   "outputs": [],
   "source": [
    "import json\n",
    "from collections import Counter"
   ]
  },
  {
   "cell_type": "code",
   "execution_count": 5,
   "metadata": {},
   "outputs": [],
   "source": [
    "with open(\"../prompts.json\", \"r\") as f:\n",
    "    samples = json.load(f)"
   ]
  },
  {
   "cell_type": "code",
   "execution_count": 7,
   "metadata": {},
   "outputs": [],
   "source": [
    "TFs, MCQs, SAQs, what_else = [], [], [], []\n",
    "\n",
    "for sample in samples:\n",
    "    # Check if the sample contains valid choices\n",
    "    if 'choices' in sample.keys() and sample['choices'] is not None:\n",
    "        if all(choice.lower() in ['true', 'false'] for choice in sample['choices']):\n",
    "            TFs.append(sample) # check if these choices are True or False\n",
    "        else:\n",
    "            MCQs.append(sample) # check if these choices are arbitrary choices of MCQs\n",
    "    elif ('choices' not in sample.keys() or sample['choices'] is None) and ('answer' in sample.keys() and sample['answer'] is not None):\n",
    "        SAQs.append(sample)\n",
    "    else: # if the sample contains neither choices nor answer\n",
    "        if set(sample.keys()) == {'question', 'sol_id'}:\n",
    "            what_else.append(sample)\n",
    "\n",
    "assert len(MCQs) + len(TFs) + len(SAQs) + len(what_else) == len(samples), \"Something is wrong with the classification of samples\""
   ]
  },
  {
   "cell_type": "code",
   "execution_count": 9,
   "metadata": {},
   "outputs": [
    {
     "name": "stdout",
     "output_type": "stream",
     "text": [
      "1 64 35 0\n"
     ]
    }
   ],
   "source": [
    "print(len(TFs), len(MCQs), len(SAQs), len(what_else))"
   ]
  },
  {
   "attachments": {},
   "cell_type": "markdown",
   "metadata": {},
   "source": [
    "## SAQ"
   ]
  },
  {
   "cell_type": "code",
   "execution_count": 10,
   "metadata": {},
   "outputs": [
    {
     "name": "stdout",
     "output_type": "stream",
     "text": [
      "Number of SAQ Type question with explanation 1\n"
     ]
    }
   ],
   "source": [
    "SAQs_with_explanation = []\n",
    "\n",
    "for sample in SAQs:\n",
    "    if 'explanation' in sample.keys() and sample['explanation'] is not None:\n",
    "        SAQs_with_explanation.append(sample)\n",
    "\n",
    "print(\"Number of SAQ Type question with explanation\", len(SAQs_with_explanation))"
   ]
  },
  {
   "cell_type": "code",
   "execution_count": 11,
   "metadata": {},
   "outputs": [
    {
     "name": "stdout",
     "output_type": "stream",
     "text": [
      "Number of solutions with answer in a list format:  1\n"
     ]
    }
   ],
   "source": [
    "count = 0\n",
    "\n",
    "for idx, sample in enumerate(SAQs):\n",
    "    if isinstance(sample['answer'], list):\n",
    "        count += 1\n",
    "        if any(isinstance(i, list) for i in sample['answer']):\n",
    "            # if answer is a list of lists\n",
    "            sample['answer'] = '. '.join([', '.join(l) for l in sample['answer']])\n",
    "        else:\n",
    "            # if answer is a single list\n",
    "            sample['answer'] = ', '.join(sample['answer'])\n",
    "\n",
    "print(\"Number of solutions with answer in a list format: \", count)"
   ]
  },
  {
   "cell_type": "code",
   "execution_count": 20,
   "metadata": {},
   "outputs": [],
   "source": [
    "SAQs_all = SAQs"
   ]
  },
  {
   "attachments": {},
   "cell_type": "markdown",
   "metadata": {},
   "source": [
    "## MCQ"
   ]
  },
  {
   "cell_type": "code",
   "execution_count": 12,
   "metadata": {},
   "outputs": [],
   "source": [
    "def filter_sample_with_explanation(samples):\n",
    "    \"\"\"\n",
    "    Used when transforming solution into training samples\n",
    "    Add system prompt if there is explanation for the sample\n",
    "    \"\"\"\n",
    "    samples_with_explanation = []\n",
    "    samples_without_explanation = []\n",
    "\n",
    "    for sample in samples:\n",
    "        if 'explanation' in sample.keys() and sample['explanation'] is not None:\n",
    "            samples_with_explanation.append(sample)\n",
    "        else:\n",
    "            samples_without_explanation.append(sample)\n",
    "\n",
    "    return samples_with_explanation, samples_without_explanation"
   ]
  },
  {
   "cell_type": "code",
   "execution_count": 14,
   "metadata": {},
   "outputs": [
    {
     "name": "stdout",
     "output_type": "stream",
     "text": [
      "20 44\n"
     ]
    }
   ],
   "source": [
    "MCQs_with_explanation, MCQs_without_explanation = filter_sample_with_explanation(MCQs)\n",
    "print(len(MCQs_with_explanation), len(MCQs_without_explanation))"
   ]
  },
  {
   "cell_type": "code",
   "execution_count": 15,
   "metadata": {},
   "outputs": [],
   "source": [
    "for sample in MCQs_with_explanation:\n",
    "    if isinstance(sample['answer'], list): # if answers are mutliples\n",
    "        assistant_response = \"Correct answers are: \"+ \", \".join(sample['answer'])\n",
    "    else:\n",
    "        assistant_response = \"Correct answer is: \" + str(sample['answer'])\n",
    "\n",
    "    user_query = sample['question'] + \"\\nchoices:\\n\" + '\\n'.join(sample['choices'])\n",
    "    sample['question'] = user_query\n",
    "    sample['answer'] = f\"{assistant_response}, Explanation: {sample['explanation']}\"\n",
    "\n",
    "\n",
    "for sample in MCQs_without_explanation:\n",
    "    if isinstance(sample['answer'], list): # if answers are mutliples\n",
    "        assistant_response = \"Correct answers are: \"+ \", \".join(sample['answer'])\n",
    "    else:\n",
    "        assistant_response = \"Correct answer is: \" + str(sample['answer'])\n",
    "\n",
    "    user_query = sample['question'] + \"\\nchoices:\\n\" + '\\n'.join(sample['choices'])\n",
    "    sample['question'] = user_query\n",
    "    sample['answer'] = f\"{assistant_response}\""
   ]
  },
  {
   "cell_type": "code",
   "execution_count": 17,
   "metadata": {},
   "outputs": [],
   "source": [
    "MCQs_all = MCQs_with_explanation + MCQs_without_explanation"
   ]
  },
  {
   "attachments": {},
   "cell_type": "markdown",
   "metadata": {},
   "source": [
    "## TF"
   ]
  },
  {
   "cell_type": "code",
   "execution_count": 19,
   "metadata": {},
   "outputs": [
    {
     "data": {
      "text/plain": [
       "(0, 1)"
      ]
     },
     "execution_count": 19,
     "metadata": {},
     "output_type": "execute_result"
    }
   ],
   "source": [
    "TFs_with_explanation, TFs_without_explanation = filter_sample_with_explanation(TFs)\n",
    "len(TFs_with_explanation), len(TFs_without_explanation)"
   ]
  },
  {
   "cell_type": "code",
   "execution_count": 21,
   "metadata": {},
   "outputs": [],
   "source": [
    "TFs_all = TFs_without_explanation"
   ]
  },
  {
   "attachments": {},
   "cell_type": "markdown",
   "metadata": {},
   "source": [
    "## Save New Prompt"
   ]
  },
  {
   "cell_type": "code",
   "execution_count": 22,
   "metadata": {},
   "outputs": [
    {
     "data": {
      "text/plain": [
       "100"
      ]
     },
     "execution_count": 22,
     "metadata": {},
     "output_type": "execute_result"
    }
   ],
   "source": [
    "prompts_all = SAQs_all + TFs_all + MCQs_all"
   ]
  },
  {
   "cell_type": "code",
   "execution_count": 26,
   "metadata": {},
   "outputs": [],
   "source": [
    "for prompt in prompts_all:\n",
    "    if \"explanation\" in prompt.keys():\n",
    "        prompt.pop(\"explanation\")\n",
    "    if \"choices\" in prompt.keys():\n",
    "        prompt.pop(\"choices\")"
   ]
  },
  {
   "cell_type": "code",
   "execution_count": 27,
   "metadata": {},
   "outputs": [],
   "source": [
    "with open('../dataset/prompts_processed.json', 'w') as file:\n",
    "    json.dump(prompts_all, file, indent=4)"
   ]
  },
  {
   "attachments": {},
   "cell_type": "markdown",
   "metadata": {},
   "source": [
    "## Add guid"
   ]
  },
  {
   "cell_type": "code",
   "execution_count": 2,
   "metadata": {},
   "outputs": [],
   "source": [
    "import json"
   ]
  },
  {
   "cell_type": "code",
   "execution_count": 3,
   "metadata": {},
   "outputs": [],
   "source": [
    "with open(\"../dataset/prompts_processed.json\", \"r\") as f:\n",
    "    samples = json.load(f)"
   ]
  },
  {
   "cell_type": "code",
   "execution_count": 4,
   "metadata": {},
   "outputs": [],
   "source": [
    "with open(\"../dataset/prompts_processed_result.json\", \"r\") as g:\n",
    "    results = json.load(g)"
   ]
  },
  {
   "cell_type": "code",
   "execution_count": 6,
   "metadata": {},
   "outputs": [],
   "source": [
    "guids = []\n",
    "for sample in samples:\n",
    "    guid = sample['guid']\n",
    "    guids.append(guid)\n",
    "\n",
    "for idx, result in enumerate(results):\n",
    "    result['guid'] = guids[idx]"
   ]
  },
  {
   "cell_type": "code",
   "execution_count": 7,
   "metadata": {},
   "outputs": [],
   "source": [
    "with open('../dataset/prompts_processed_result_guid.json', 'w') as file:\n",
    "    json.dump(results, file, indent=4)"
   ]
  },
  {
   "cell_type": "code",
   "execution_count": 5,
   "metadata": {},
   "outputs": [],
   "source": [
    "import json"
   ]
  },
  {
   "cell_type": "code",
   "execution_count": 8,
   "metadata": {},
   "outputs": [],
   "source": [
    "def process_prompt_data(prompts_r_path: str, prompts_w_path: str):\n",
    "    def filter_sample_with_explanation(prompts):\n",
    "        samples_with_explanation = []\n",
    "        samples_without_explanation = []\n",
    "        for prompt in prompts:\n",
    "            if 'explanation' in prompt.keys() and prompt['explanation'] is not None:\n",
    "                samples_with_explanation.append(prompt)\n",
    "            else:\n",
    "                samples_without_explanation.append(prompt)\n",
    "        return samples_with_explanation, samples_without_explanation\n",
    "\n",
    "    def process_explanation(prompts, expl_flag=False):\n",
    "        if expl_flag:\n",
    "            for prompt in prompts:\n",
    "                if isinstance(prompt['answer'], list) and len(prompt['answer']) > 1:  # if answers are multiples\n",
    "                    assistant_response = \"Correct answers are: \" + \", \".join(prompt['answer'])\n",
    "                else:\n",
    "                    assistant_response = \"Correct answer is: \" + str(prompt['answer'])\n",
    "\n",
    "                user_query = prompt['question'] + \"\\nchoices:\\n\" + '\\n'.join(prompt['choices'])\n",
    "                prompt['question'] = user_query\n",
    "                prompt['answer'] = f\"{assistant_response}, Explanation: {prompt['explanation']}\"\n",
    "        else:\n",
    "            for prompt in prompts:\n",
    "                if isinstance(prompt['answer'], list) and len(prompt['answer']) > 1:  # if answers are multiples\n",
    "                    assistant_response = \"Correct answers are: \" + \", \".join(prompt['answer'])\n",
    "                else:\n",
    "                    assistant_response = \"Correct answer is: \" + str(prompt['answer'])\n",
    "\n",
    "                user_query = prompt['question'] + \"\\nchoices:\\n\" + '\\n'.join(prompt['choices'])\n",
    "                prompt['question'] = user_query\n",
    "                prompt['answer'] = f\"{assistant_response}\"\n",
    "        return prompts\n",
    "\n",
    "    with open(prompts_r_path, \"r\") as f:\n",
    "        samples = json.load(f)\n",
    "\n",
    "    total_length = len(samples)\n",
    "    empty_count = 0\n",
    "\n",
    "    for sample in samples:\n",
    "        if isinstance(sample['answer'], list):\n",
    "            if not sample['answer']:\n",
    "                samples.remove(sample)\n",
    "                empty_count += 1\n",
    "    print(f\"Inspected {empty_count} samples with empty answer. Remaining {len(samples)} out of {total_length}.\")\n",
    "\n",
    "    TFs, MCQs, SAQs, what_else = [], [], [], []\n",
    "    for sample in samples:\n",
    "        # Check if the sample contains valid choices\n",
    "        if 'choices' in sample.keys() and sample['choices'] is not None:\n",
    "            if all(choice.lower() in ['true', 'false'] for choice in sample['choices']):\n",
    "                TFs.append(sample)  # check if these choices are True or False\n",
    "            else:\n",
    "                MCQs.append(sample)  # check if these choices are arbitrary choices of MCQs\n",
    "        elif ('choices' not in sample.keys() or sample['choices'] is None) and (\n",
    "                'answer' in sample.keys() and sample['answer'] is not None):\n",
    "            SAQs.append(sample)\n",
    "        else:  # if the sample contains neither choices nor answer\n",
    "            if set(sample.keys()) == {'question', 'sol_id'}:\n",
    "                what_else.append(sample)\n",
    "\n",
    "    assert len(MCQs) + len(TFs) + len(SAQs) + len(what_else) == len(\n",
    "        samples), \"Sample(s) with wrong form exist(s). Please check the original dataset...\"\n",
    "\n",
    "    # MCQ\n",
    "    MCQs_with_explanation, MCQs_without_explanation = filter_sample_with_explanation(MCQs)\n",
    "    if len(MCQs_without_explanation) > 0:\n",
    "        MCQs_with_explanation = process_explanation(MCQs_with_explanation, expl_flag=True)\n",
    "    if len(MCQs_without_explanation) > 0:\n",
    "        MCQs_without_explanation = process_explanation(MCQs_without_explanation, expl_flag=False)\n",
    "    MCQs_all = MCQs_with_explanation + MCQs_without_explanation\n",
    "\n",
    "    # TF\n",
    "    TFs_with_explanation, TFs_without_explanation = filter_sample_with_explanation(TFs)\n",
    "    if len(TFs_with_explanation) > 0:\n",
    "        TFs_with_explanation = process_explanation(TFs_with_explanation, expl_flag=True)\n",
    "    if len(TFs_without_explanation) > 0:\n",
    "        TFs_without_explanation = process_explanation(TFs_without_explanation, expl_flag=False)\n",
    "    TFs_all = TFs_with_explanation + TFs_without_explanation\n",
    "\n",
    "    # SAQ\n",
    "    for sample in SAQs:\n",
    "        if isinstance(sample['answer'], list):\n",
    "            if len(sample['answer']) > 1:\n",
    "                sample['answer'] = ' '.join(sample['answer'])\n",
    "            else:\n",
    "                sample['answer'] = sample['answer'][0]\n",
    "\n",
    "    # Save\n",
    "    samples_all = MCQs_all + TFs_all + SAQs\n",
    "    for sample in samples_all:\n",
    "        if \"explanation\" in sample.keys():\n",
    "            sample.pop(\"explanation\")\n",
    "        if \"choices\" in sample.keys():  \n",
    "            sample.pop(\"choices\")\n",
    "\n",
    "    with open(prompts_w_path, 'w') as file:\n",
    "        json.dump(samples_all, file, indent=4)"
   ]
  },
  {
   "cell_type": "code",
   "execution_count": 10,
   "metadata": {},
   "outputs": [
    {
     "name": "stdout",
     "output_type": "stream",
     "text": [
      "Inspected 2 samples with empty answer. Remaining 98 out of 100.\n"
     ]
    }
   ],
   "source": [
    "process_prompt_data('../prompts.json', '../dataset/prompts_processed_test.json')"
   ]
  },
  {
   "cell_type": "code",
   "execution_count": null,
   "metadata": {},
   "outputs": [],
   "source": []
  }
 ],
 "metadata": {
  "kernelspec": {
   "display_name": "base",
   "language": "python",
   "name": "python3"
  },
  "language_info": {
   "codemirror_mode": {
    "name": "ipython",
    "version": 3
   },
   "file_extension": ".py",
   "mimetype": "text/x-python",
   "name": "python",
   "nbconvert_exporter": "python",
   "pygments_lexer": "ipython3",
   "version": "3.8.16"
  },
  "orig_nbformat": 4
 },
 "nbformat": 4,
 "nbformat_minor": 2
}
