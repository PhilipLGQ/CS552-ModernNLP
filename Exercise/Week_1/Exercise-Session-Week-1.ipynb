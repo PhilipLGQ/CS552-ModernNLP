{
 "cells": [
  {
   "cell_type": "markdown",
   "metadata": {},
   "source": [
    "# 📚 Exercise Session - Week 1\n",
    "\n",
    "Welcome to Week 1 exercise session of **CS-552: Modern NLP**!\n",
    "\n",
    "> **What will be covered:**\n",
    "> 1. [Training a word embedding model](#1)\n",
    "> 2. [**TASK A:** Word embedding similarity](#2)\n",
    "> 3. [**TASK B:** Sentiment analysis of movie reviews](#3)\n",
    "\n",
    "> **By the end of the session you will be able to:**\n",
    "> - ✅  train from scratch a word embedding model\n",
    "> - ✅  load and use pre-trained word embeddings \n",
    "> - ✅  perform word embedding analogies and understand their implicit biases\n",
    "> - ✅  train and evaluate a sentiment classifier using word embeddings "
   ]
  },
  {
   "cell_type": "markdown",
   "metadata": {},
   "source": [
    "## Intro - Word embedding models\n",
    "\n",
    "#### 🔵 What?\n",
    "A word embedding is a learned representation for text where words that have the same meaning have a similar representation. It is this approach to representing words and documents that may be considered one of the key breakthroughs of deep learning on challenging natural language processing problems.\n",
    "\n",
    "\n",
    "#### 🟡 How?\n",
    "There are different versions of word embeddings depending on the way the embeddings are learned.\n",
    "- Some of the models learn a focus word given the neighboring words that surround them\n",
    "- Some other models learn the neighboring words given the focus word.\n",
    "- Some other words embedding models try to derive the relationship between the words from global statistics of the words in the overall corpus.\n",
    "\n",
    "\n",
    "#### 🟣 Why?\n",
    "Word embedding in NLP is an important term that is used for representing words for text analysis in the form of real-valued vectors. It is an advancement in NLP that has improved the ability of computers to understand text-based content in a better way. \n",
    "\n",
    "\n",
    "#### A little bit of history on word embeddings\n",
    "In 2013, Tomas Mikolov et al. developed an algorithm for learning word embeddings called **Word2vec** [[paper](https://arxiv.org/abs/1301.3781)][[code](https://code.google.com/archive/p/word2vec/)]. This algorithm uses a shallow neural network to learn word vectors so that each word of a given corpus is good at predicting its own contexts (Skip-Gram) or vice versa (CBOW).\n",
    "\n",
    "One year after the publication of Word2vec, Pennington et al. developed a new algorithm for learning word embeddings called **GloVe** [[paper](https://nlp.stanford.edu/pubs/glove.pdf)][[code](https://github.com/stanfordnlp/GloVe)]. This algorithm is based on the observation that word relationships can be recovered from the co-occurrence statistics of any (large enough) corpus."
   ]
  },
  {
   "cell_type": "markdown",
   "metadata": {},
   "source": [
    "<div style=\"padding:8px 0 8px 15px;border-left:3px solid orange;background-color:#F3F3F3;\">\n",
    "    <h3>Goal of today's exercise</h3><br/>\n",
    "In this exercise session, we will use both variants of these word embedding models (Word2Vec and GloVe) for our experiments. \n",
    "\n",
    "In this exercise session, we will use both variants of these word embedding models (Word2Vec and GloVe) for our experiments.\n",
    "For the first part, we will train from scratch a Word2vec model with different datasets. In the second part, we will load pre-trained Word2vec and GloVe embeddings and test them on how well they capture concept similarity among words. Finally, for the last part, we will train a simple sentiment analysis classifier with these pre-trained embeddings as we discussed in the lecture.\n",
    "\n",
    "You will need to fill in all the missing pieces of code. For each one, you will be given a 🎯 `Goal` guidance that explains the steps you need to implement and a 💻 `API` reference with the functions or classes you can use to achieve each goal.\n",
    "\n",
    "#### Setup\n",
    "Please check the [setup guide]() of the course before you start.\n",
    "\n",
    "</div>"
   ]
  },
  {
   "cell_type": "code",
   "execution_count": 1,
   "metadata": {
    "tags": []
   },
   "outputs": [],
   "source": [
    "#!conda create -n \"modern_nlp\" python=3.7.0"
   ]
  },
  {
   "cell_type": "code",
   "execution_count": 2,
   "metadata": {
    "tags": []
   },
   "outputs": [],
   "source": [
    "#!pip3 install pandas gensim numpy matplotlib seaborn scikit-learn tqdm torch torchmetrics"
   ]
  },
  {
   "cell_type": "code",
   "execution_count": 5,
   "metadata": {
    "tags": []
   },
   "outputs": [],
   "source": [
    "# imported libraries for this exercise\n",
    "import pandas as pd\n",
    "import numpy as np\n",
    "from gensim.test.utils import common_texts\n",
    "from gensim.utils import tokenize   \n",
    "from gensim.models import Word2Vec\n",
    "import gensim.downloader\n",
    "import torch \n",
    "from torch import nn\n",
    "from torch.utils.data import Dataset, DataLoader\n",
    "from torchmetrics.classification import BinaryAccuracy\n",
    "from sklearn.manifold import TSNE\n",
    "import matplotlib.pyplot as plt\n",
    "import seaborn as sns\n",
    "from tqdm import tqdm"
   ]
  },
  {
   "cell_type": "markdown",
   "metadata": {},
   "source": [
    "<a name=\"1\"></a>\n",
    "## 1. Training a word embedding model from stratch \n",
    "\n",
    "In this part, you will train a model to learn vector representations of words and more specifically, we will train the word2vec model. \n",
    "To train the model we will use the Gensim library which is a free open-source Python library for representing documents as semantic vectors.\n",
    " \n",
    "> **Gensim** is designed to process raw, unstructured digital texts (“plain text”) using unsupervised machine learning algorithms. The algorithms in Gensim, such as Word2Vec, FastText, Latent Semantic Indexing (LSI, LSA, LsiModel), Latent Dirichlet Allocation (LDA, LdaModel) etc, automatically discover the semantic structure of documents by examining statistical co-occurrence patterns within a corpus of training documents. These algorithms are unsupervised, which means no human input is necessary – you only need a corpus of plain text documents.\n",
    ">\n",
    "> You can discover all Gensim functionalities [here](https://radimrehurek.com/gensim/index.html).\n",
    "\n",
    "To train your embedding model, you will need to instantiate Word2Vec and pass the data to the model to train with. We essentially need to pass on a list of lists, where each list within the main list contains a set of tokens from a user review. Word2Vec uses all these tokens to internally create a vocabulary.\n",
    "\n",
    "**Data:** We will train our embedding model using a toy dataset that is provided by the Gensim library. You can use the dataset under the following path `gensim.test.utils.common_texts`. "
   ]
  },
  {
   "cell_type": "code",
   "execution_count": 6,
   "metadata": {
    "tags": []
   },
   "outputs": [
    {
     "data": {
      "text/plain": [
       "[['human', 'interface', 'computer'],\n",
       " ['survey', 'user', 'computer', 'system', 'response', 'time'],\n",
       " ['eps', 'user', 'interface', 'system'],\n",
       " ['system', 'human', 'system', 'eps'],\n",
       " ['user', 'response', 'time'],\n",
       " ['trees'],\n",
       " ['graph', 'trees'],\n",
       " ['graph', 'minors', 'trees'],\n",
       " ['graph', 'minors', 'survey']]"
      ]
     },
     "execution_count": 6,
     "metadata": {},
     "output_type": "execute_result"
    }
   ],
   "source": [
    "# bag of words for each sentence in toy dataset (imported from the gensim library in cell 2)\n",
    "common_texts"
   ]
  },
  {
   "cell_type": "markdown",
   "metadata": {},
   "source": [
    "#### Train a Gensim Word2Vec model"
   ]
  },
  {
   "cell_type": "markdown",
   "metadata": {},
   "source": [
    "<div style=\"padding:8px 0 8px 15px;border-left:3px solid #03befc;background-color:#F3F3F3;\">\n",
    "    \n",
    "- 🎯 **Goal:** Train with `common_texts` dataset a Gensim word2vec model.<br>\n",
    "\n",
    "- 💻  **API:** You can use `gensim.models.Word2Vec` class.\n",
    "</div>"
   ]
  },
  {
   "cell_type": "code",
   "execution_count": 7,
   "metadata": {
    "tags": []
   },
   "outputs": [],
   "source": [
    "#instantiate and train model\n",
    "w2v_model = Word2Vec(sentences=common_texts, vector_size=10, window=5, min_count=1, workers=4)"
   ]
  },
  {
   "cell_type": "code",
   "execution_count": 8,
   "metadata": {
    "tags": []
   },
   "outputs": [
    {
     "data": {
      "text/plain": [
       "{'system': 0,\n",
       " 'graph': 1,\n",
       " 'trees': 2,\n",
       " 'user': 3,\n",
       " 'minors': 4,\n",
       " 'eps': 5,\n",
       " 'time': 6,\n",
       " 'response': 7,\n",
       " 'survey': 8,\n",
       " 'computer': 9,\n",
       " 'interface': 10,\n",
       " 'human': 11}"
      ]
     },
     "execution_count": 8,
     "metadata": {},
     "output_type": "execute_result"
    }
   ],
   "source": [
    "# dict with vocabulary frequencies\n",
    "words = w2v_model.wv.key_to_index\n",
    "words"
   ]
  },
  {
   "cell_type": "markdown",
   "metadata": {},
   "source": [
    "#### Find word similarities"
   ]
  },
  {
   "cell_type": "code",
   "execution_count": 9,
   "metadata": {
    "tags": []
   },
   "outputs": [
    {
     "name": "stdout",
     "output_type": "stream",
     "text": [
      "The vector length of the word is 10.\n"
     ]
    }
   ],
   "source": [
    "# explore embeddings\n",
    "vector = w2v_model.wv['computer']  # get numpy vector of a word\n",
    "print('The vector length of the word is {}.'.format(len(vector)))"
   ]
  },
  {
   "cell_type": "markdown",
   "metadata": {},
   "source": [
    "<div style=\"padding:8px 0 8px 15px;border-left:3px solid #03befc;background-color:#F3F3F3;\">\n",
    "\n",
    "- 🎯 **Goal:** Use the trained word2vec model to find most similar words for token _\"computer\"_.\n",
    "- 💻 **API:** You can use Gensim's `.most_similar` function.\n",
    "\n",
    "</div>"
   ]
  },
  {
   "cell_type": "code",
   "execution_count": 11,
   "metadata": {
    "tags": []
   },
   "outputs": [
    {
     "data": {
      "text/plain": [
       "[('eps', 0.2914133667945862),\n",
       " ('trees', 0.05541810393333435),\n",
       " ('minors', 0.042647670954465866),\n",
       " ('survey', -0.02176341600716114),\n",
       " ('interface', -0.15233567357063293),\n",
       " ('time', -0.19863171875476837),\n",
       " ('response', -0.2179230898618698),\n",
       " ('human', -0.22643756866455078),\n",
       " ('user', -0.23134341835975647),\n",
       " ('graph', -0.5145737528800964)]"
      ]
     },
     "execution_count": 11,
     "metadata": {},
     "output_type": "execute_result"
    }
   ],
   "source": [
    "# print most similar words\n",
    "sims = w2v_model.wv.most_similar('computer', topn=10)\n",
    "sims"
   ]
  },
  {
   "cell_type": "markdown",
   "metadata": {},
   "source": [
    "<div style=\"padding:8px 0 8px 15px;border-left:3px solid gray;background-color:#F3F3F3;\">\n",
    "\n",
    "#### Play around with inital settings\n",
    "\n",
    "- Re-train the model with different datasets ( [Wikipedia](https://radimrehurek.com/gensim/corpora/wikicorpus.html), [Opinosis](https://radimrehurek.com/gensim/corpora/opinosiscorpus.html) ) and vector sizes and run similarity with different top-n. How would you comment the results?\n",
    "- Think about the limitations of the Word2vec approach.\n",
    "\n",
    "</div>"
   ]
  },
  {
   "cell_type": "markdown",
   "metadata": {},
   "source": [
    "***--- YOU CAN WRITE YOU ANSWER HERE ---***\n",
    "\n",
    "---"
   ]
  },
  {
   "cell_type": "markdown",
   "metadata": {},
   "source": [
    "<a name=\"2\"></a>\n",
    "## 2. TASK A: Word embedding similarity\n",
    "\n",
    "For this task, we will use pre-trained word embedding models. \n",
    "\n",
    "**Word2Vec:** We will use once again Word2vec as in the previous question, but in this case we will load the pre-trained version of it that has been trained on a part of the Google News dataset (about 100 billion words). The model variant that we will use, contains 300-dimensional vectors for 3 million words and phrases. You can find the embeddings under this dir: . You need to download them and put them under the `/Users/<username>/gensin-data/word2vec-google-news-300/` dir (your local directory).\n",
    "\n",
    "**GloVe:** We will also use GloVe word embeddings that have been pre-trained on 2B tweets, 27B tokens, 1.2M vocab, uncased. The model variant that we will use contains 100-dimensional vectors.\n",
    "\n",
    "Once we load the vector represenation of words, we will:\n",
    "- find similarities between group of words.\n",
    "- discover a very cool property of word embeddings through analogies.\n",
    "- evaluate their performance on how well they capture the semantics between words on the SimLex task.\n"
   ]
  },
  {
   "cell_type": "markdown",
   "metadata": {},
   "source": [
    "### 2.1 Using pre-trained word embedding models"
   ]
  },
  {
   "cell_type": "code",
   "execution_count": 18,
   "metadata": {
    "tags": []
   },
   "outputs": [
    {
     "name": "stdout",
     "output_type": "stream",
     "text": [
      "['fasttext-wiki-news-subwords-300', 'conceptnet-numberbatch-17-06-300', 'word2vec-ruscorpora-300', 'word2vec-google-news-300', 'glove-wiki-gigaword-50', 'glove-wiki-gigaword-100', 'glove-wiki-gigaword-200', 'glove-wiki-gigaword-300', 'glove-twitter-25', 'glove-twitter-50', 'glove-twitter-100', 'glove-twitter-200', '__testing_word2vec-matrix-synopsis']\n"
     ]
    }
   ],
   "source": [
    "# Show all available models in gensim-data\n",
    "print(list(gensim.downloader.info()['models'].keys()))"
   ]
  },
  {
   "cell_type": "code",
   "execution_count": 19,
   "metadata": {
    "tags": []
   },
   "outputs": [],
   "source": [
    "# Download the \"word2vec-google-news-300\" embeddings\n",
    "w2v_vectors = gensim.downloader.load('word2vec-google-news-300')"
   ]
  },
  {
   "cell_type": "code",
   "execution_count": 20,
   "metadata": {
    "tags": []
   },
   "outputs": [],
   "source": [
    "# Download the \"glove-wiki-gigaword-100\" embeddings\n",
    "glove_vectors = gensim.downloader.load('glove-wiki-gigaword-100')"
   ]
  },
  {
   "cell_type": "markdown",
   "metadata": {},
   "source": [
    "The best way to understand a data is by visualizing them. We will use t-SNE to reduce the data with 300 dimensions to 2 dimensions, so that we can plot the data on our screens.\n",
    "t-SNE is a non-linear dimensionality reduction algorithm that attempts to represent high-dimensional data and the underlying relationships between vectors in a lower-dimensional space."
   ]
  },
  {
   "cell_type": "code",
   "execution_count": 48,
   "metadata": {
    "tags": []
   },
   "outputs": [
    {
     "name": "stderr",
     "output_type": "stream",
     "text": [
      "/tmp/ipykernel_18336/1355630342.py:2: MatplotlibDeprecationWarning: The seaborn styles shipped by Matplotlib are deprecated since 3.6, as they no longer correspond to the styles shipped by seaborn. However, they will remain available as 'seaborn-v0_8-<style>'. Alternatively, directly use the seaborn API instead.\n",
      "  plt.style.use('seaborn-whitegrid')\n"
     ]
    }
   ],
   "source": [
    "# visualization utility function. NO NEED TO CHANGE ANYTHING HERE\n",
    "plt.style.use('seaborn-whitegrid')\n",
    "sns.set(rc={'figure.figsize':(11.7,8.27)})\n",
    "\n",
    "def tsne_scatterplot(model, search_word, topn):\n",
    "    labels = [search_word]\n",
    "    tokens = [model[search_word]]\n",
    "    similar = [1]\n",
    "    close_words = model.similar_by_word(search_word, topn=topn)\n",
    "    for word in close_words:\n",
    "        tokens.append(model[word[0]])\n",
    "        labels.append(word[0])\n",
    "        similar.append(word[1])\n",
    "    \n",
    "    tsne_model = TSNE(n_components=2, init='pca')\n",
    "    coordinates = tsne_model.fit_transform(np.asarray(tokens))\n",
    "    df = pd.DataFrame({'x': [x for x in coordinates[:, 0]],\n",
    "                       'y': [y for y in coordinates[:, 1]],\n",
    "                       'words': labels,\n",
    "                       'similarity': similar}\n",
    "                      )\n",
    "    fig, ax = plt.subplots()\n",
    "    plot = ax.scatter(df.x, df.y, c=df.similarity, cmap='Reds')\n",
    "    for i in range(len(df)):\n",
    "        ax.annotate(\"  {} ({:.2f})\".format(df.words[i].title(),\n",
    "                                           df.similarity[i]),\n",
    "                    (df.x[i], df.y[i]))\n",
    "\n",
    "    plt.colorbar(mappable=plot, ax=ax)\n",
    "    plt.title('t-SNE visualization for {}'.format(search_word))\n",
    "    plt.show()"
   ]
  },
  {
   "cell_type": "code",
   "execution_count": null,
   "metadata": {
    "tags": []
   },
   "outputs": [],
   "source": [
    "# visualize the most similar words for a given word.\n",
    "tsne_scatterplot(glove_vectors, \"computer\", 20)"
   ]
  },
  {
   "cell_type": "markdown",
   "metadata": {},
   "source": [
    "#### Interactive visualization\n",
    "\n",
    "In the following link, you can explore the state-of-the-art models in an interactive embedding visualization: https://projector.tensorflow.org/.\n",
    "\n",
    "Using the TensorBoard Embedding Projector, you can graphically represent high dimensional embeddings. This can be helpful in visualizing, examining, and understanding your embeddings.\n",
    "\n",
    "Give it a try! Test interesting clusters of similar words! "
   ]
  },
  {
   "cell_type": "markdown",
   "metadata": {},
   "source": [
    "### 2.2 Check word analogies\n",
    "\n",
    "The fact that we can analyze the use of words in language to deduce their meaning is a fundamental idea of [distributional semantics](https://en.wikipedia.org/wiki/Distributional_semantics). This is the inspiration behind many algorithms for learning numerical representations of words (word embeddings). An important aspect of these representations is the ability to solve word analogies of the form “A is to B what C is to X” using simple arithmetic. This is generally simplified as “King — Man + Woman = Queen.\n",
    "\n",
    "In this subquestion we will explore interesting relations that can be extracted from word embeddings. You will be given semantic relations and you need to implement the respective code using the embedding model."
   ]
  },
  {
   "cell_type": "markdown",
   "metadata": {},
   "source": [
    "<div style=\"padding:8px 0 8px 15px;border-left:3px solid #03befc;background-color:#F3F3F3;\">\n",
    "\n",
    "- 🎯 **Goal:** Use the pre-trained GloVe embeddings to implement the following analogies.\n",
    "- 💻 **API:** You can use Gensim's `.most_similar` function.\n",
    "\n",
    "</div>"
   ]
  },
  {
   "cell_type": "markdown",
   "metadata": {},
   "source": [
    "**Analogy A:**  `King` — `Man` + `Woman` ~ `?`\n",
    "\n",
    "`?`: `Queen`"
   ]
  },
  {
   "cell_type": "code",
   "execution_count": 29,
   "metadata": {
    "tags": []
   },
   "outputs": [
    {
     "name": "stdout",
     "output_type": "stream",
     "text": [
      "queen: 0.7699\n"
     ]
    }
   ],
   "source": [
    "# Check the \"most similar words\", using the default \"cosine similarity\" measure. \n",
    "res = glove_vectors.most_similar(positive=['woman', 'king'], negative=['man'])\n",
    "sim_word, sim = res[0]\n",
    "print(\"{}: {:.4f}\".format(sim_word, sim))"
   ]
  },
  {
   "cell_type": "markdown",
   "metadata": {},
   "source": [
    "**Analogy B:**  `Paris` — `France` + `Athens` ~ `?`\n",
    "\n",
    "`?`: `Greece`"
   ]
  },
  {
   "cell_type": "code",
   "execution_count": 30,
   "metadata": {
    "tags": []
   },
   "outputs": [
    {
     "name": "stdout",
     "output_type": "stream",
     "text": [
      "greece: 0.7968\n"
     ]
    }
   ],
   "source": [
    "# Check the \"most similar words\", using the default \"cosine similarity\" measure. \n",
    "res = glove_vectors.most_similar(positive=['athens', 'france'], negative=['paris'])\n",
    "sim_word, sim = res[0]\n",
    "print(\"{}: {:.4f}\".format(sim_word, sim))"
   ]
  },
  {
   "cell_type": "markdown",
   "metadata": {},
   "source": [
    "However, we should not forget that these models are trained in human generated language. Meaning that sociatital and demographic biases are inevitable. In the following example you will unfortunatelly witness these kind of biases that the model unitentionally proragates to its final output.\n",
    "\n",
    "Fortunatelly, extensive reaserch has been developed the last years to tackle this issue trying to de-bias the embeddings models. More regarding this topic will be covered in Week 11  when we will be talking about Ethics in NLP regarding Toxicity, Bias and Fairness.\n",
    "\n",
    "**Analogy C:**  `Man` - `Doctor` + `Woman` ~ `Nurse`"
   ]
  },
  {
   "cell_type": "code",
   "execution_count": 31,
   "metadata": {
    "tags": []
   },
   "outputs": [
    {
     "name": "stdout",
     "output_type": "stream",
     "text": [
      "nurse:0.7735\n"
     ]
    }
   ],
   "source": [
    "# Check the \"most similar words\", using the default \"cosine similarity\" measure. \n",
    "res = glove_vectors.most_similar(positive=['woman', 'doctor'], negative=['man'])\n",
    "sim_word, sim = res[0]\n",
    "print(\"{}:{:.4f}\".format(sim_word, sim))"
   ]
  },
  {
   "cell_type": "markdown",
   "metadata": {},
   "source": [
    "### 2.3 Evaluate different models with SimLex\n",
    "\n",
    "In this part of the exercise, we will evaluate the syntactic concreteness of the created vectors using their similarity. For this task, we will use the SimLex999 dataset which is a human-annotated dataset regarding the similarity of concepts of words.\n",
    "\n",
    "- 📄 Paper: https://aclanthology.org/J15-4004.pdf\n",
    "- 👾 More about the task: https://fh295.github.io/simlex.html\n",
    "\n",
    "> - Download the data from [here](https://fh295.github.io/SimLex-999.zip)\n",
    "> - Unzip the file and put the corresponding folder with the dataset in the same dir as this notebook\n",
    "\n",
    "SimLex-999 is a gold standard resource for the evaluation of models that learn the meaning of words and concepts. SimLex-999 provides a way of measuring how well models capture similarity, rather than relatedness or association.\n",
    "\n",
    "#### Dataset:\n",
    "SimLex-999.txt is a tab-separated plaintext file, where rows correspond to concept pairs and columns correspond to the properties of each pair.\n",
    "\n",
    "|Column | Description |\n",
    "|-------|:-------------|\n",
    "|word1| The first concept in the pair.|\n",
    "|word2| The second concept in the pair. Note that the order is only relevant to the column Assoc(USF). These values (free association scores) are asymmetric. All other values are symmetric properties independent of the ordering word1, word2.|\n",
    "|POS| The majority part-of-speech of the concept words, as determined by occurrence in the POS-tagged British National Corpus. Only pairs of matching POS are included in SimLex-999.|\n",
    "|SimLex999 | The SimLex999 similarity rating. Note that average annotator scores have been (linearly) mapped from the range [0,6] to the range [0,10] to match other datasets such as WordSim-353. |\n",
    "|conc(w1)| The concreteness rating of word1 on a scale of 1-7. Taken from the University of South Florida Free Association Norms database. |\n",
    "|conc(w2)| The concreteness rating of word2 on a scale of 1-7. Taken from the University of South Florida Free Association Norms database.|\n",
    "|concQ| The quartile the pair occupies based on the two concreteness ratings. Used for some analyses in the above paper.|\n",
    "|Assoc(USF)| The strength of free association from word1 to word2. Values are taken from the University of South Florida Free Association Dataset.|\n",
    "|SimAssoc333| Binary indicator of whether the pair is one of the 333 most associated in the dataset (according to Assoc(USF)). This subset of SimLex999 is often the hardest for computational models to capture because the noise from high association can confound the similarity rating. See the paper for more details.|\n",
    "|SD(SimLex)| The standard deviation of annotator scores when rating this pair. Low values indicate good agreement between the 15+ annotators on the similarity value SimLex999. Higher scores indicate less certainty. |"
   ]
  },
  {
   "cell_type": "markdown",
   "metadata": {},
   "source": [
    "We will be using the **`SimLex999` similarity column** to evaluate our word embeddings on this dataset. We will select the top 50 most similar pairs according to simlex999 column which a score from 0 to 10 regarding the similarities of the two words (columns: word1, word2) and it has been annotated by humans. On this subset of data, we will find the similarity score of the two words using our two pre-trained embedding models (Word2Vec, GloVe). "
   ]
  },
  {
   "cell_type": "code",
   "execution_count": 33,
   "metadata": {
    "tags": []
   },
   "outputs": [
    {
     "data": {
      "text/html": [
       "<div>\n",
       "<style scoped>\n",
       "    .dataframe tbody tr th:only-of-type {\n",
       "        vertical-align: middle;\n",
       "    }\n",
       "\n",
       "    .dataframe tbody tr th {\n",
       "        vertical-align: top;\n",
       "    }\n",
       "\n",
       "    .dataframe thead th {\n",
       "        text-align: right;\n",
       "    }\n",
       "</style>\n",
       "<table border=\"1\" class=\"dataframe\">\n",
       "  <thead>\n",
       "    <tr style=\"text-align: right;\">\n",
       "      <th></th>\n",
       "      <th>word1</th>\n",
       "      <th>word2</th>\n",
       "      <th>SimLex999</th>\n",
       "    </tr>\n",
       "  </thead>\n",
       "  <tbody>\n",
       "    <tr>\n",
       "      <th>0</th>\n",
       "      <td>old</td>\n",
       "      <td>new</td>\n",
       "      <td>1.58</td>\n",
       "    </tr>\n",
       "    <tr>\n",
       "      <th>1</th>\n",
       "      <td>smart</td>\n",
       "      <td>intelligent</td>\n",
       "      <td>9.20</td>\n",
       "    </tr>\n",
       "    <tr>\n",
       "      <th>2</th>\n",
       "      <td>hard</td>\n",
       "      <td>difficult</td>\n",
       "      <td>8.77</td>\n",
       "    </tr>\n",
       "    <tr>\n",
       "      <th>3</th>\n",
       "      <td>happy</td>\n",
       "      <td>cheerful</td>\n",
       "      <td>9.55</td>\n",
       "    </tr>\n",
       "    <tr>\n",
       "      <th>4</th>\n",
       "      <td>hard</td>\n",
       "      <td>easy</td>\n",
       "      <td>0.95</td>\n",
       "    </tr>\n",
       "  </tbody>\n",
       "</table>\n",
       "</div>"
      ],
      "text/plain": [
       "   word1        word2  SimLex999\n",
       "0    old          new       1.58\n",
       "1  smart  intelligent       9.20\n",
       "2   hard    difficult       8.77\n",
       "3  happy     cheerful       9.55\n",
       "4   hard         easy       0.95"
      ]
     },
     "execution_count": 33,
     "metadata": {},
     "output_type": "execute_result"
    }
   ],
   "source": [
    "# read data\n",
    "simlex = pd.read_csv('SimLex-999/SimLex-999.txt', delimiter='\\t')\n",
    "simlex = simlex[['word1', 'word2', 'SimLex999']]\n",
    "simlex.head()"
   ]
  },
  {
   "cell_type": "markdown",
   "metadata": {},
   "source": [
    "<div style=\"padding:8px 0 8px 15px;border-left:3px solid #03befc;background-color:#F3F3F3;\">\n",
    "\n",
    "- 🎯 **Goal:** Print the min, avg and max values of SimLex999 score.\n",
    "\n",
    "</div>"
   ]
  },
  {
   "cell_type": "code",
   "execution_count": 38,
   "metadata": {
    "tags": []
   },
   "outputs": [
    {
     "data": {
      "text/html": [
       "<div>\n",
       "<style scoped>\n",
       "    .dataframe tbody tr th:only-of-type {\n",
       "        vertical-align: middle;\n",
       "    }\n",
       "\n",
       "    .dataframe tbody tr th {\n",
       "        vertical-align: top;\n",
       "    }\n",
       "\n",
       "    .dataframe thead th {\n",
       "        text-align: right;\n",
       "    }\n",
       "</style>\n",
       "<table border=\"1\" class=\"dataframe\">\n",
       "  <thead>\n",
       "    <tr style=\"text-align: right;\">\n",
       "      <th></th>\n",
       "      <th>SimLex999</th>\n",
       "    </tr>\n",
       "  </thead>\n",
       "  <tbody>\n",
       "    <tr>\n",
       "      <th>min</th>\n",
       "      <td>0.230000</td>\n",
       "    </tr>\n",
       "    <tr>\n",
       "      <th>mean</th>\n",
       "      <td>4.561572</td>\n",
       "    </tr>\n",
       "    <tr>\n",
       "      <th>max</th>\n",
       "      <td>9.800000</td>\n",
       "    </tr>\n",
       "  </tbody>\n",
       "</table>\n",
       "</div>"
      ],
      "text/plain": [
       "      SimLex999\n",
       "min    0.230000\n",
       "mean   4.561572\n",
       "max    9.800000"
      ]
     },
     "execution_count": 38,
     "metadata": {},
     "output_type": "execute_result"
    }
   ],
   "source": [
    "# stats on the SimLex999 similarity score\n",
    "simlex[['SimLex999']].describe().loc[['min', 'mean', 'max']]"
   ]
  },
  {
   "cell_type": "markdown",
   "metadata": {},
   "source": [
    "<div style=\"padding:8px 0 8px 15px;border-left:3px solid #03befc;background-color:#F3F3F3;\">\n",
    "\n",
    "- 🎯 **Goal:** Select the top 50 pairs with the highest SimLex similarity score.\n",
    "</div>"
   ]
  },
  {
   "cell_type": "code",
   "execution_count": 51,
   "metadata": {
    "tags": []
   },
   "outputs": [
    {
     "data": {
      "text/html": [
       "<div>\n",
       "<style scoped>\n",
       "    .dataframe tbody tr th:only-of-type {\n",
       "        vertical-align: middle;\n",
       "    }\n",
       "\n",
       "    .dataframe tbody tr th {\n",
       "        vertical-align: top;\n",
       "    }\n",
       "\n",
       "    .dataframe thead th {\n",
       "        text-align: right;\n",
       "    }\n",
       "</style>\n",
       "<table border=\"1\" class=\"dataframe\">\n",
       "  <thead>\n",
       "    <tr style=\"text-align: right;\">\n",
       "      <th></th>\n",
       "      <th>word1</th>\n",
       "      <th>word2</th>\n",
       "      <th>SimLex999</th>\n",
       "    </tr>\n",
       "  </thead>\n",
       "  <tbody>\n",
       "    <tr>\n",
       "      <th>782</th>\n",
       "      <td>vanish</td>\n",
       "      <td>disappear</td>\n",
       "      <td>9.80</td>\n",
       "    </tr>\n",
       "    <tr>\n",
       "      <th>22</th>\n",
       "      <td>quick</td>\n",
       "      <td>rapid</td>\n",
       "      <td>9.70</td>\n",
       "    </tr>\n",
       "    <tr>\n",
       "      <th>205</th>\n",
       "      <td>creator</td>\n",
       "      <td>maker</td>\n",
       "      <td>9.62</td>\n",
       "    </tr>\n",
       "    <tr>\n",
       "      <th>8</th>\n",
       "      <td>stupid</td>\n",
       "      <td>dumb</td>\n",
       "      <td>9.58</td>\n",
       "    </tr>\n",
       "    <tr>\n",
       "      <th>16</th>\n",
       "      <td>insane</td>\n",
       "      <td>crazy</td>\n",
       "      <td>9.57</td>\n",
       "    </tr>\n",
       "  </tbody>\n",
       "</table>\n",
       "</div>"
      ],
      "text/plain": [
       "       word1      word2  SimLex999\n",
       "782   vanish  disappear       9.80\n",
       "22     quick      rapid       9.70\n",
       "205  creator      maker       9.62\n",
       "8     stupid       dumb       9.58\n",
       "16    insane      crazy       9.57"
      ]
     },
     "execution_count": 51,
     "metadata": {},
     "output_type": "execute_result"
    }
   ],
   "source": [
    "# select a subset of word-pairs with the highest similiarity score given by annotators\n",
    "simlex_similar_pairs = simlex.sort_values('SimLex999', ascending=False).head(50)\n",
    "simlex_similar_pairs.head()"
   ]
  },
  {
   "cell_type": "markdown",
   "metadata": {},
   "source": [
    "<div style=\"padding:8px 0 8px 15px;border-left:3px solid #03befc;background-color:#F3F3F3;\">\n",
    "\n",
    "- 🎯 **Goal:** For each word pair from `simlex_similar_pairs`, compute the similarity between the GloVe embeddings of the words.\n",
    "- 💻 **API:** You can use Gensim's `.similarity` function.\n",
    "\n",
    "</div>"
   ]
  },
  {
   "cell_type": "code",
   "execution_count": 52,
   "metadata": {
    "tags": []
   },
   "outputs": [],
   "source": [
    "# computes the similarities of each pair using each word embedding model\n",
    "similarities = list()\n",
    "for _, pair in simlex_similar_pairs.iterrows():\n",
    "    w1 = pair['word1']\n",
    "    w2 = pair['word2']\n",
    "    similarity_glove = glove_vectors.similarity(w1, w2)\n",
    "    similarity_w2v = w2v_vectors.similarity(w1, w2)\n",
    "    similarities.append({'w1': w1, 'w2': w2, \n",
    "                         'similarity_w2v': similarity_w2v,\n",
    "                         'similarity_glove': similarity_glove,\n",
    "                         'similarity_golden': pair['SimLex999']})\n",
    "# break\n",
    "similarities = pd.DataFrame(similarities)"
   ]
  },
  {
   "cell_type": "code",
   "execution_count": 53,
   "metadata": {
    "tags": []
   },
   "outputs": [
    {
     "data": {
      "text/html": [
       "<div>\n",
       "<style scoped>\n",
       "    .dataframe tbody tr th:only-of-type {\n",
       "        vertical-align: middle;\n",
       "    }\n",
       "\n",
       "    .dataframe tbody tr th {\n",
       "        vertical-align: top;\n",
       "    }\n",
       "\n",
       "    .dataframe thead th {\n",
       "        text-align: right;\n",
       "    }\n",
       "</style>\n",
       "<table border=\"1\" class=\"dataframe\">\n",
       "  <thead>\n",
       "    <tr style=\"text-align: right;\">\n",
       "      <th></th>\n",
       "      <th>w1</th>\n",
       "      <th>w2</th>\n",
       "      <th>similarity_w2v</th>\n",
       "      <th>similarity_glove</th>\n",
       "      <th>similarity_golden</th>\n",
       "    </tr>\n",
       "  </thead>\n",
       "  <tbody>\n",
       "    <tr>\n",
       "      <th>0</th>\n",
       "      <td>vanish</td>\n",
       "      <td>disappear</td>\n",
       "      <td>0.900423</td>\n",
       "      <td>0.881494</td>\n",
       "      <td>9.80</td>\n",
       "    </tr>\n",
       "    <tr>\n",
       "      <th>1</th>\n",
       "      <td>quick</td>\n",
       "      <td>rapid</td>\n",
       "      <td>0.497791</td>\n",
       "      <td>0.561225</td>\n",
       "      <td>9.70</td>\n",
       "    </tr>\n",
       "    <tr>\n",
       "      <th>2</th>\n",
       "      <td>creator</td>\n",
       "      <td>maker</td>\n",
       "      <td>0.260506</td>\n",
       "      <td>0.243845</td>\n",
       "      <td>9.62</td>\n",
       "    </tr>\n",
       "    <tr>\n",
       "      <th>3</th>\n",
       "      <td>stupid</td>\n",
       "      <td>dumb</td>\n",
       "      <td>0.817314</td>\n",
       "      <td>0.836065</td>\n",
       "      <td>9.58</td>\n",
       "    </tr>\n",
       "    <tr>\n",
       "      <th>4</th>\n",
       "      <td>insane</td>\n",
       "      <td>crazy</td>\n",
       "      <td>0.733904</td>\n",
       "      <td>0.591737</td>\n",
       "      <td>9.57</td>\n",
       "    </tr>\n",
       "  </tbody>\n",
       "</table>\n",
       "</div>"
      ],
      "text/plain": [
       "        w1         w2  similarity_w2v  similarity_glove  similarity_golden\n",
       "0   vanish  disappear        0.900423          0.881494               9.80\n",
       "1    quick      rapid        0.497791          0.561225               9.70\n",
       "2  creator      maker        0.260506          0.243845               9.62\n",
       "3   stupid       dumb        0.817314          0.836065               9.58\n",
       "4   insane      crazy        0.733904          0.591737               9.57"
      ]
     },
     "execution_count": 53,
     "metadata": {},
     "output_type": "execute_result"
    }
   ],
   "source": [
    "similarities.head()"
   ]
  },
  {
   "cell_type": "code",
   "execution_count": 54,
   "metadata": {
    "tags": []
   },
   "outputs": [
    {
     "data": {
      "text/plain": [
       "<seaborn.axisgrid.FacetGrid at 0x7f914fa501f0>"
      ]
     },
     "execution_count": 54,
     "metadata": {},
     "output_type": "execute_result"
    },
    {
     "data": {
      "image/png": "[encoded data removed]",
      "text/plain": [
       "<Figure size 631.125x500 with 1 Axes>"
      ]
     },
     "metadata": {},
     "output_type": "display_data"
    }
   ],
   "source": [
    "# plots the \n",
    "sims_w2v = similarities[['similarity_w2v']].rename(columns = {'similarity_w2v': 'similarity'})\n",
    "sims_w2v['model'] = 'Word2vec'\n",
    "sims_glove = similarities[['similarity_glove']].rename(columns = {'similarity_glove': 'similarity'})\n",
    "sims_glove['model'] = 'GloVe'\n",
    "to_plot = pd.concat([sims_w2v, sims_glove], ignore_index=True)\n",
    "sns.displot(to_plot, x=\"similarity\", hue=\"model\", kind=\"kde\")"
   ]
  },
  {
   "cell_type": "markdown",
   "metadata": {},
   "source": [
    "<div style=\"padding:8px 0 8px 15px;border-left:3px solid gray;background-color:#F3F3F3;\">\n",
    "\n",
    "#### Extra quiz: \n",
    "Think about which model performs best and why based on your knowledge of how the embedding models have been trained.\n",
    "\n",
    "</div>"
   ]
  },
  {
   "cell_type": "markdown",
   "metadata": {},
   "source": [
    "----"
   ]
  },
  {
   "cell_type": "markdown",
   "metadata": {},
   "source": [
    "<a name=\"3\"></a>\n",
    "## 3. TASK B: Sentiment analysis of movie reviews\n",
    "\n",
    "For this part, we will be using only the GloVe pre-trained embeddings. \n",
    "\n",
    "**Data:** We will build a sentiment classification model using the IMDB review dataset.\n",
    "\n",
    "> - Download the dataset [here](https://www.kaggle.com/datasets/lakshmi25npathi/imdb-dataset-of-50k-movie-reviews/download?datasetVersionNumber=1)\n",
    "> - Save the .csv file in the same dir as this notebook. \n",
    "\n",
    "The IMDB dataset has 50K movie reviews for natural language processing or Text analytics. This is a dataset for binary sentiment classification containing substantially more data than previous benchmark datasets. We provide a set of 25,000 highly polar movie reviews for training and 25,000 for testing. So, predict the number of positive and negative reviews using either classification or deep learning algorithms.\n",
    "\n",
    "For more dataset information, please go through the following link,\n",
    "http://ai.stanford.edu/~amaas/data/sentiment/"
   ]
  },
  {
   "attachments": {
    "IMDB-reviews-dataset-stats.png": {
     "image/png": "[encoded data removed]"
    }
   },
   "cell_type": "markdown",
   "metadata": {},
   "source": [
    "![IMDB-reviews-dataset-stats.png](attachment:IMDB-reviews-dataset-stats.png)"
   ]
  },
  {
   "cell_type": "markdown",
   "metadata": {},
   "source": [
    "### 3.1 Dataset exploration"
   ]
  },
  {
   "cell_type": "code",
   "execution_count": 56,
   "metadata": {
    "tags": []
   },
   "outputs": [
    {
     "data": {
      "text/html": [
       "<div>\n",
       "<style scoped>\n",
       "    .dataframe tbody tr th:only-of-type {\n",
       "        vertical-align: middle;\n",
       "    }\n",
       "\n",
       "    .dataframe tbody tr th {\n",
       "        vertical-align: top;\n",
       "    }\n",
       "\n",
       "    .dataframe thead th {\n",
       "        text-align: right;\n",
       "    }\n",
       "</style>\n",
       "<table border=\"1\" class=\"dataframe\">\n",
       "  <thead>\n",
       "    <tr style=\"text-align: right;\">\n",
       "      <th></th>\n",
       "      <th>review</th>\n",
       "      <th>sentiment</th>\n",
       "    </tr>\n",
       "  </thead>\n",
       "  <tbody>\n",
       "    <tr>\n",
       "      <th>0</th>\n",
       "      <td>One of the other reviewers has mentioned that ...</td>\n",
       "      <td>positive</td>\n",
       "    </tr>\n",
       "    <tr>\n",
       "      <th>1</th>\n",
       "      <td>A wonderful little production. &lt;br /&gt;&lt;br /&gt;The...</td>\n",
       "      <td>positive</td>\n",
       "    </tr>\n",
       "    <tr>\n",
       "      <th>2</th>\n",
       "      <td>I thought this was a wonderful way to spend ti...</td>\n",
       "      <td>positive</td>\n",
       "    </tr>\n",
       "    <tr>\n",
       "      <th>3</th>\n",
       "      <td>Basically there's a family where a little boy ...</td>\n",
       "      <td>negative</td>\n",
       "    </tr>\n",
       "    <tr>\n",
       "      <th>4</th>\n",
       "      <td>Petter Mattei's \"Love in the Time of Money\" is...</td>\n",
       "      <td>positive</td>\n",
       "    </tr>\n",
       "  </tbody>\n",
       "</table>\n",
       "</div>"
      ],
      "text/plain": [
       "                                              review sentiment\n",
       "0  One of the other reviewers has mentioned that ...  positive\n",
       "1  A wonderful little production. <br /><br />The...  positive\n",
       "2  I thought this was a wonderful way to spend ti...  positive\n",
       "3  Basically there's a family where a little boy ...  negative\n",
       "4  Petter Mattei's \"Love in the Time of Money\" is...  positive"
      ]
     },
     "execution_count": 56,
     "metadata": {},
     "output_type": "execute_result"
    }
   ],
   "source": [
    "#read dataset\n",
    "movie_reviews = pd.read_csv('IMDB Dataset.csv')\n",
    "movie_reviews.head()"
   ]
  },
  {
   "cell_type": "code",
   "execution_count": 57,
   "metadata": {
    "tags": []
   },
   "outputs": [
    {
     "name": "stdout",
     "output_type": "stream",
     "text": [
      "Number of movie reviews: 50000\n",
      "Number of classes: 2 with values: ['positive' 'negative']\n"
     ]
    }
   ],
   "source": [
    "print('Number of movie reviews: {}'.format(len(movie_reviews)))\n",
    "classes = movie_reviews['sentiment'].unique()\n",
    "print('Number of classes: {} with values: {}'.format(len(classes), classes))"
   ]
  },
  {
   "cell_type": "code",
   "execution_count": 58,
   "metadata": {
    "tags": []
   },
   "outputs": [
    {
     "name": "stdout",
     "output_type": "stream",
     "text": [
      "# of positive samples: 25000\n",
      "# of negative samples: 25000\n"
     ]
    },
    {
     "data": {
      "text/plain": [
       "<Axes: xlabel='sentiment', ylabel='count'>"
      ]
     },
     "execution_count": 58,
     "metadata": {},
     "output_type": "execute_result"
    },
    {
     "data": {
      "image/png": "[encoded data removed]",
      "text/plain": [
       "<Figure size 570x527 with 1 Axes>"
      ]
     },
     "metadata": {},
     "output_type": "display_data"
    }
   ],
   "source": [
    "# class distribution\n",
    "positive = len(movie_reviews[movie_reviews['sentiment']=='positive'])\n",
    "negative = len(movie_reviews[movie_reviews['sentiment']=='negative'])\n",
    "\n",
    "print('# of positive samples: {}'.format(positive))\n",
    "print('# of negative samples: {}'.format(negative))\n",
    "\n",
    "sns.set(rc={'figure.figsize':(5.7,5.27)})\n",
    "sns.countplot(x=movie_reviews['sentiment'])"
   ]
  },
  {
   "cell_type": "markdown",
   "metadata": {},
   "source": [
    "### 3.2 Data preprocessing\n",
    "\n",
    "To build our classifier, we will leverage the pre-trained word embeddings (GloVe). Going from word embeddings to sentence vectors, we will need to find a way to take into account the embeddings of all the words each review contains. We will apply 2 techniques to do so: average and max pooling.  \n",
    "\n",
    "We will perform the following preprocessing steps:\n",
    "- Change the classes from str (negative, positive) to binary `(0, 1)`.\n",
    "- Get word embeddings and calculate the sentence vectors with both max and avg pooling.\n",
    "- Create a `pytorch.Dataset` instance of the IMDB data."
   ]
  },
  {
   "cell_type": "markdown",
   "metadata": {},
   "source": [
    "#### From class names to binary"
   ]
  },
  {
   "cell_type": "markdown",
   "metadata": {},
   "source": [
    "<div style=\"padding:8px 0 8px 15px;border-left:3px solid #03befc;background-color:#F3F3F3;\">\n",
    "\n",
    "- 🎯 **Goal:** Change the classe names from str (negative, positive) to binary `(0, 1)` and add it as a new column to the exising dataframe.\n",
    "\n",
    "</div>"
   ]
  },
  {
   "cell_type": "code",
   "execution_count": 61,
   "metadata": {
    "tags": []
   },
   "outputs": [
    {
     "data": {
      "text/html": [
       "<div>\n",
       "<style scoped>\n",
       "    .dataframe tbody tr th:only-of-type {\n",
       "        vertical-align: middle;\n",
       "    }\n",
       "\n",
       "    .dataframe tbody tr th {\n",
       "        vertical-align: top;\n",
       "    }\n",
       "\n",
       "    .dataframe thead th {\n",
       "        text-align: right;\n",
       "    }\n",
       "</style>\n",
       "<table border=\"1\" class=\"dataframe\">\n",
       "  <thead>\n",
       "    <tr style=\"text-align: right;\">\n",
       "      <th></th>\n",
       "      <th>review</th>\n",
       "      <th>sentiment</th>\n",
       "      <th>target</th>\n",
       "    </tr>\n",
       "  </thead>\n",
       "  <tbody>\n",
       "    <tr>\n",
       "      <th>0</th>\n",
       "      <td>One of the other reviewers has mentioned that ...</td>\n",
       "      <td>positive</td>\n",
       "      <td>1.0</td>\n",
       "    </tr>\n",
       "    <tr>\n",
       "      <th>1</th>\n",
       "      <td>A wonderful little production. &lt;br /&gt;&lt;br /&gt;The...</td>\n",
       "      <td>positive</td>\n",
       "      <td>1.0</td>\n",
       "    </tr>\n",
       "    <tr>\n",
       "      <th>2</th>\n",
       "      <td>I thought this was a wonderful way to spend ti...</td>\n",
       "      <td>positive</td>\n",
       "      <td>1.0</td>\n",
       "    </tr>\n",
       "    <tr>\n",
       "      <th>3</th>\n",
       "      <td>Basically there's a family where a little boy ...</td>\n",
       "      <td>negative</td>\n",
       "      <td>0.0</td>\n",
       "    </tr>\n",
       "    <tr>\n",
       "      <th>4</th>\n",
       "      <td>Petter Mattei's \"Love in the Time of Money\" is...</td>\n",
       "      <td>positive</td>\n",
       "      <td>1.0</td>\n",
       "    </tr>\n",
       "  </tbody>\n",
       "</table>\n",
       "</div>"
      ],
      "text/plain": [
       "                                              review sentiment  target\n",
       "0  One of the other reviewers has mentioned that ...  positive     1.0\n",
       "1  A wonderful little production. <br /><br />The...  positive     1.0\n",
       "2  I thought this was a wonderful way to spend ti...  positive     1.0\n",
       "3  Basically there's a family where a little boy ...  negative     0.0\n",
       "4  Petter Mattei's \"Love in the Time of Money\" is...  positive     1.0"
      ]
     },
     "execution_count": 61,
     "metadata": {},
     "output_type": "execute_result"
    }
   ],
   "source": [
    "# classes to binary\n",
    "movie_reviews['target'] = movie_reviews['sentiment'].apply(lambda cls_name: 1.0 if cls_name == 'positive' else 0.0)\n",
    "movie_reviews.head()"
   ]
  },
  {
   "cell_type": "markdown",
   "metadata": {},
   "source": [
    "#### From word embeddings to review embeddings"
   ]
  },
  {
   "cell_type": "markdown",
   "metadata": {},
   "source": [
    "<div style=\"padding:8px 0 8px 15px;border-left:3px solid #03befc;background-color:#F3F3F3;\">\n",
    "\n",
    "- 🎯 **Goal:** For each review in the dataset, calculate the review vector by pooling from the review's word embeddings. Implement both max and avg pooling.\n",
    "- 💻 **API:** You can use numpy functions to manipulate the arrays. For review tokenization you can use `gensim.utils.tokenize` function.\n",
    "\n",
    "</div>"
   ]
  },
  {
   "cell_type": "code",
   "execution_count": 64,
   "metadata": {
    "tags": []
   },
   "outputs": [
    {
     "name": "stderr",
     "output_type": "stream",
     "text": [
      "50000it [00:33, 1478.39it/s]\n"
     ]
    }
   ],
   "source": [
    "# apply embedding model to the words of the reviews and then perform pooling\n",
    "review_vectors_max = list()\n",
    "review_vectors_avg = list()\n",
    "\n",
    "for _, row in tqdm(movie_reviews.iterrows()):\n",
    "    # sentence tokenization\n",
    "    tokens = tokenize(row['review'], deacc = True)\n",
    "    vec_list = list()\n",
    "    \n",
    "    # get pre-trained embeddings\n",
    "    for token in tokens:\n",
    "        if token.lower() in glove_vectors.key_to_index.keys():\n",
    "            vector = glove_vectors[token.lower()]\n",
    "            vec_list.append(vector)\n",
    "    \n",
    "    # perform avg & max pooling\n",
    "    vec_max = np.array(vec_list).max(axis=0)\n",
    "    vec_avg = np.array(vec_list).mean(axis=0)\n",
    "    review_vectors_avg.append(vec_avg)\n",
    "    review_vectors_max.append(vec_max)\n",
    "    \n",
    "review_vectors_max = np.array(review_vectors_max)\n",
    "review_vectors_avg = np.array(review_vectors_avg)"
   ]
  },
  {
   "cell_type": "code",
   "execution_count": 65,
   "metadata": {
    "tags": []
   },
   "outputs": [
    {
     "data": {
      "text/plain": [
       "array([[1.111  , 1.2946 , 1.2236 , ..., 1.1007 , 1.7819 , 1.269  ],\n",
       "       [0.89517, 1.2472 , 1.2633 , ..., 0.85595, 1.3816 , 1.4787 ],\n",
       "       [1.6339 , 1.2472 , 1.5401 , ..., 1.0659 , 1.3816 , 1.4096 ],\n",
       "       ...,\n",
       "       [1.1139 , 1.3068 , 1.2577 , ..., 0.81744, 1.2779 , 1.2945 ],\n",
       "       [1.0243 , 0.97671, 1.4007 , ..., 0.90466, 1.3816 , 1.1364 ],\n",
       "       [0.89517, 1.1474 , 1.0322 , ..., 1.0126 , 1.5334 , 1.065  ]],\n",
       "      dtype=float32)"
      ]
     },
     "execution_count": 65,
     "metadata": {},
     "output_type": "execute_result"
    }
   ],
   "source": [
    "review_vectors_max"
   ]
  },
  {
   "cell_type": "code",
   "execution_count": 66,
   "metadata": {
    "tags": []
   },
   "outputs": [
    {
     "data": {
      "text/plain": [
       "array([[-0.04117526,  0.20481169,  0.36172098, ..., -0.24445796,\n",
       "         0.42034778,  0.21344796],\n",
       "       [-0.11116434,  0.20222695,  0.31935593, ..., -0.4229608 ,\n",
       "         0.37362182,  0.28223386],\n",
       "       [-0.05449568,  0.21563546,  0.33791873, ..., -0.33336368,\n",
       "         0.36266175,  0.20204777],\n",
       "       ...,\n",
       "       [ 0.04227059,  0.20138794,  0.30037162, ..., -0.3756918 ,\n",
       "         0.39159328,  0.18918851],\n",
       "       [-0.04626835,  0.14761959,  0.40884614, ..., -0.27966103,\n",
       "         0.40165016,  0.18362121],\n",
       "       [-0.07555934,  0.2015821 ,  0.44226825, ..., -0.3057766 ,\n",
       "         0.45405382,  0.22661754]], dtype=float32)"
      ]
     },
     "execution_count": 66,
     "metadata": {},
     "output_type": "execute_result"
    }
   ],
   "source": [
    "review_vectors_avg"
   ]
  },
  {
   "cell_type": "markdown",
   "metadata": {},
   "source": [
    "#### Pytorch Dataset class for the imported data"
   ]
  },
  {
   "cell_type": "markdown",
   "metadata": {},
   "source": [
    "<div style=\"padding:8px 0 8px 15px;border-left:3px solid #03befc;background-color:#F3F3F3;\">\n",
    "\n",
    "- 🎯 **Goal:** Create a pytorch Dataset class with the input data. Instantiate this class with the input data.\n",
    "- 💻 **API:** You can use `torch.utils.data.Dataset` class.\n",
    "\n",
    "</div>"
   ]
  },
  {
   "cell_type": "code",
   "execution_count": 73,
   "metadata": {},
   "outputs": [],
   "source": [
    "class IMDBreviews(Dataset):\n",
    "    def __init__(self, review_vectors, targets):\n",
    "        super().__init__()\n",
    "        self.input = torch.tensor(review_vectors)\n",
    "        self.target = torch.tensor(targets)\n",
    "    \n",
    "    def __len__(self):\n",
    "        return len(self.target)\n",
    "\n",
    "    def __getitem__(self, idx):\n",
    "        return self.input[idx], self.target[idx]\n",
    "\n",
    "dataset = IMDBreviews(review_vectors_avg, movie_reviews['target'])"
   ]
  },
  {
   "cell_type": "code",
   "execution_count": 74,
   "metadata": {
    "tags": []
   },
   "outputs": [
    {
     "name": "stdout",
     "output_type": "stream",
     "text": [
      "Total samples 50000 with sentence embedding size: 100\n"
     ]
    }
   ],
   "source": [
    "# print tensors for sanity check\n",
    "print('Total samples {} with sentence embedding size: {}'.format(dataset.input.shape[0], dataset.input.shape[1]))"
   ]
  },
  {
   "cell_type": "markdown",
   "metadata": {},
   "source": [
    "#### Splitting dataset to train and test subsets"
   ]
  },
  {
   "cell_type": "markdown",
   "metadata": {},
   "source": [
    "<div style=\"padding:8px 0 8px 15px;border-left:3px solid #03befc;background-color:#F3F3F3;\">\n",
    "\n",
    "- 🎯 **Goal:** Split the dataset into train and test tests (80-20% splits).\n",
    "- 💻 **API:** You can use `torch.utils.data.random_split` function.\n",
    "\n",
    "</div>"
   ]
  },
  {
   "cell_type": "code",
   "execution_count": 75,
   "metadata": {
    "tags": []
   },
   "outputs": [],
   "source": [
    "# split to train and test sets\n",
    "train, test = torch.utils.data.random_split(dataset, [0.8, 0.2])"
   ]
  },
  {
   "cell_type": "code",
   "execution_count": 76,
   "metadata": {
    "tags": []
   },
   "outputs": [
    {
     "name": "stdout",
     "output_type": "stream",
     "text": [
      "Train size: 40000\n",
      "Test size: 10000\n"
     ]
    }
   ],
   "source": [
    "print('Train size: {}'.format(len(train)))\n",
    "print('Test size: {}'.format(len(test)))"
   ]
  },
  {
   "cell_type": "markdown",
   "metadata": {},
   "source": [
    "### 3.3 Train & evaluate a classifier on the movie reviews\n",
    "\n",
    "Once we have proprocessed the data, we will create the training and evaluation pipelines.\n"
   ]
  },
  {
   "cell_type": "markdown",
   "metadata": {},
   "source": [
    "#### Pytorch Module class for model setup"
   ]
  },
  {
   "cell_type": "markdown",
   "metadata": {},
   "source": [
    "<div style=\"padding:8px 0 8px 15px;border-left:3px solid #03befc;background-color:#F3F3F3;\">\n",
    "\n",
    "- 🎯 **Goal:** Create a pytorch model class. The architecture of the model can be as simple as a Linear layer along with a sigmoid activation function, or a more complicated deep architecture. Play around with different settings and architectures.\n",
    "- 💻 **API:** You can use `torch.nn.Module` class.\n",
    "\n",
    "</div>"
   ]
  },
  {
   "cell_type": "code",
   "execution_count": 77,
   "metadata": {
    "tags": []
   },
   "outputs": [],
   "source": [
    "# create a pytorch nn.Module class for the simple logistic regression model\n",
    "class SentimentAnalysisModel(nn.Module):\n",
    "    def __init__(self, features):\n",
    "        super(SentimentAnalysisModel, self).__init__()\n",
    "        self.linear = nn.Linear(features.shape[1], 1)\n",
    "        self.sigmoid = nn.Sigmoid()\n",
    "        \n",
    "    def forward(self, x):\n",
    "        out = self.linear(x)\n",
    "        out = self.sigmoid(out)\n",
    "        return out"
   ]
  },
  {
   "cell_type": "code",
   "execution_count": 79,
   "metadata": {
    "tags": []
   },
   "outputs": [
    {
     "data": {
      "text/plain": [
       "SentimentAnalysisModel(\n",
       "  (linear): Linear(in_features=100, out_features=1, bias=True)\n",
       "  (sigmoid): Sigmoid()\n",
       ")"
      ]
     },
     "execution_count": 79,
     "metadata": {},
     "output_type": "execute_result"
    }
   ],
   "source": [
    "model = SentimentAnalysisModel(dataset.input)\n",
    "model"
   ]
  },
  {
   "cell_type": "code",
   "execution_count": 80,
   "metadata": {
    "tags": []
   },
   "outputs": [
    {
     "name": "stdout",
     "output_type": "stream",
     "text": [
      "The model has 101 trainable parameters\n"
     ]
    }
   ],
   "source": [
    "def count_parameters(model):\n",
    "    return sum(p.numel() for p in model.parameters() if p.requires_grad)\n",
    "\n",
    "print(f'The model has {count_parameters(model):,} trainable parameters')"
   ]
  },
  {
   "cell_type": "markdown",
   "metadata": {},
   "source": [
    "#### Pytorch Data loader class for dataset batching"
   ]
  },
  {
   "cell_type": "code",
   "execution_count": 81,
   "metadata": {
    "tags": []
   },
   "outputs": [],
   "source": [
    "# create data loader\n",
    "BATCH_SIZE = 64\n",
    "train_loader = DataLoader(train, batch_size=BATCH_SIZE, shuffle=True)\n",
    "test_loader= DataLoader(test, batch_size=BATCH_SIZE)"
   ]
  },
  {
   "cell_type": "markdown",
   "metadata": {},
   "source": [
    "#### Training the model"
   ]
  },
  {
   "cell_type": "code",
   "execution_count": 82,
   "metadata": {
    "tags": []
   },
   "outputs": [],
   "source": [
    "# Construct our loss function and an Optimizer. The call to model.parameters()\n",
    "# in the SGD constructor will contain the learnable parameters of the two\n",
    "# nn.Linear modules which are members of the model.\n",
    "from torch import optim\n",
    "criterion = nn.BCELoss()\n",
    "optimizer = optim.SGD(model.parameters(), lr=1e-1)"
   ]
  },
  {
   "cell_type": "markdown",
   "metadata": {},
   "source": [
    "<div style=\"padding:8px 0 8px 15px;border-left:3px solid #03befc;background-color:#F3F3F3;\">\n",
    "\n",
    "- 🎯 **Goal:** Create the training loop: for each epoch, do the forward pass, compute the loss and do the backward propagation.\n",
    "- 💻 **API:** Check the official API for the [training process](https://pytorch.org/tutorials/beginner/blitz/cifar10_tutorial.html#train-the-network).\n",
    "\n",
    "</div>"
   ]
  },
  {
   "cell_type": "code",
   "execution_count": 85,
   "metadata": {
    "tags": []
   },
   "outputs": [
    {
     "name": "stdout",
     "output_type": "stream",
     "text": [
      "Epoch 1 | Loss: 0.6649\n",
      "Epoch 2 | Loss: 0.6278\n",
      "Epoch 3 | Loss: 0.6054\n",
      "Epoch 4 | Loss: 0.5890\n",
      "Epoch 5 | Loss: 0.5765\n",
      "Epoch 6 | Loss: 0.5657\n",
      "Epoch 7 | Loss: 0.5569\n",
      "Epoch 8 | Loss: 0.5497\n",
      "Epoch 9 | Loss: 0.5428\n",
      "Epoch 10 | Loss: 0.5371\n"
     ]
    }
   ],
   "source": [
    "# Training loop\n",
    "model.train()\n",
    "for epoch in range(10):\n",
    "    epoch_loss = 0\n",
    "    for i, data in enumerate(train_loader, 0):\n",
    "        # get the inputs\n",
    "        inputs, labels = data\n",
    "        \n",
    "        # Forward pass: Compute predicted y by passing x to the model\n",
    "        labels_pred = model(inputs)\n",
    "        \n",
    "        # Compute loss\n",
    "        loss = criterion(torch.squeeze(labels_pred), labels.float())\n",
    "        epoch_loss += loss\n",
    "        \n",
    "        # Perform a backward pass, and update the weights.\n",
    "        optimizer.zero_grad()\n",
    "        loss.backward()\n",
    "        optimizer.step()\n",
    "        \n",
    "    print(f'Epoch {epoch + 1} | Loss: {(epoch_loss / len(train_loader)):.4f}')"
   ]
  },
  {
   "cell_type": "markdown",
   "metadata": {},
   "source": [
    "#### Inference on the test set"
   ]
  },
  {
   "cell_type": "markdown",
   "metadata": {},
   "source": [
    "\n",
    "<div style=\"padding:8px 0 8px 15px;border-left:3px solid #03befc;background-color:#F3F3F3;\">\n",
    "\n",
    "- 🎯 **Goal:** Evaluate your model on the test set: for each batch of data, do the forward pass and compute the loss and the accuracy score.\n",
    "- 💻 **API:** Check the official API for the [testing process](https://pytorch.org/tutorials/beginner/blitz/cifar10_tutorial.html#test-the-network-on-the-test-data).\n",
    "\n",
    "</div>"
   ]
  },
  {
   "cell_type": "code",
   "execution_count": 89,
   "metadata": {
    "tags": []
   },
   "outputs": [
    {
     "name": "stdout",
     "output_type": "stream",
     "text": [
      "Test Acc: 75.57%\n"
     ]
    }
   ],
   "source": [
    "batch_loss = 0\n",
    "batch_acc = 0\n",
    "\n",
    "model.eval()\n",
    "for i, data in enumerate(test_loader, 0):\n",
    "    # get the inputs\n",
    "    inputs, labels = data\n",
    "    \n",
    "    # run forward pass\n",
    "    labels_pred = model(inputs)\n",
    "    \n",
    "    # Compute loss\n",
    "    test_loss = criterion(torch.squeeze(labels_pred), labels.float())\n",
    "    labels_pred = torch.tensor([1. if x > 0.5 else 0. for x in labels_pred])\n",
    "    \n",
    "    # Compute accuracy\n",
    "    acc = BinaryAccuracy()\n",
    "    acc = acc(labels, labels_pred)\n",
    "    \n",
    "    batch_loss += test_loss.item()\n",
    "    batch_acc += acc.item()\n",
    "\n",
    "test_loss = batch_loss / len(test_loader)\n",
    "test_acc = batch_acc / len(test_loader)\n",
    "\n",
    "print(f'Test Acc: {test_acc*100:.2f}%')"
   ]
  },
  {
   "cell_type": "markdown",
   "metadata": {},
   "source": [
    "<div style=\"padding:8px 0 8px 15px;border-left:3px solid gray;background-color:#F3F3F3;\">\n",
    "\n",
    "#### Extra quiz:\n",
    "Play around with different settings (e.g. learning rate, batch size, epochs) and different architectures. Additionally try different pooling methods. Think how your design choices affect model performance on both train and test sets.\n",
    "\n",
    "</div>"
   ]
  },
  {
   "cell_type": "markdown",
   "metadata": {},
   "source": [
    "### 🎉 Congrats! You finished your first exercise session! \n",
    "\n",
    "Awesome work! Cu next week! 👋"
   ]
  }
 ],
 "metadata": {
  "kernelspec": {
   "display_name": "Python 3 (ipykernel)",
   "language": "python",
   "name": "python3"
  },
  "language_info": {
   "codemirror_mode": {
    "name": "ipython",
    "version": 3
   },
   "file_extension": ".py",
   "mimetype": "text/x-python",
   "name": "python",
   "nbconvert_exporter": "python",
   "pygments_lexer": "ipython3",
   "version": "3.8.16"
  },
  "vscode": {
   "interpreter": {
    "hash": "9d83d51e7863facb4437f5a0274d4e16ee5e900063e2cb79797894b845e52902"
   }
  }
 },
 "nbformat": 4,
 "nbformat_minor": 4
}
